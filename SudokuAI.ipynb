{
 "cells": [
  {
   "cell_type": "code",
   "execution_count": 1,
   "metadata": {},
   "outputs": [],
   "source": [
    "import numpy as np\n",
    "import pandas as pd\n",
    "from tensorflow import keras\n",
    "from sklearn.model_selection import train_test_split"
   ]
  },
  {
   "cell_type": "code",
   "execution_count": 2,
   "metadata": {},
   "outputs": [
    {
     "data": {
      "text/html": [
       "<div>\n",
       "<style scoped>\n",
       "    .dataframe tbody tr th:only-of-type {\n",
       "        vertical-align: middle;\n",
       "    }\n",
       "\n",
       "    .dataframe tbody tr th {\n",
       "        vertical-align: top;\n",
       "    }\n",
       "\n",
       "    .dataframe thead th {\n",
       "        text-align: right;\n",
       "    }\n",
       "</style>\n",
       "<table border=\"1\" class=\"dataframe\">\n",
       "  <thead>\n",
       "    <tr style=\"text-align: right;\">\n",
       "      <th></th>\n",
       "      <th>quizzes</th>\n",
       "      <th>solutions</th>\n",
       "    </tr>\n",
       "  </thead>\n",
       "  <tbody>\n",
       "    <tr>\n",
       "      <th>0</th>\n",
       "      <td>0043002090050090010700600430060020871900074000...</td>\n",
       "      <td>8643712593258497619712658434361925871986574322...</td>\n",
       "    </tr>\n",
       "    <tr>\n",
       "      <th>1</th>\n",
       "      <td>0401000501070039605200080000000000170009068008...</td>\n",
       "      <td>3461792581875239645296483719658324174729168358...</td>\n",
       "    </tr>\n",
       "    <tr>\n",
       "      <th>2</th>\n",
       "      <td>6001203840084590720000060050002640300700800069...</td>\n",
       "      <td>6951273841384596727248369158512647392739815469...</td>\n",
       "    </tr>\n",
       "    <tr>\n",
       "      <th>3</th>\n",
       "      <td>4972000001004000050000160986203000403009000000...</td>\n",
       "      <td>4972583161864397252537164986293815473759641828...</td>\n",
       "    </tr>\n",
       "    <tr>\n",
       "      <th>4</th>\n",
       "      <td>0059103080094030600275001000300002010008200070...</td>\n",
       "      <td>4659123781894735623275681497386452919548216372...</td>\n",
       "    </tr>\n",
       "  </tbody>\n",
       "</table>\n",
       "</div>"
      ],
      "text/plain": [
       "                                             quizzes  \\\n",
       "0  0043002090050090010700600430060020871900074000...   \n",
       "1  0401000501070039605200080000000000170009068008...   \n",
       "2  6001203840084590720000060050002640300700800069...   \n",
       "3  4972000001004000050000160986203000403009000000...   \n",
       "4  0059103080094030600275001000300002010008200070...   \n",
       "\n",
       "                                           solutions  \n",
       "0  8643712593258497619712658434361925871986574322...  \n",
       "1  3461792581875239645296483719658324174729168358...  \n",
       "2  6951273841384596727248369158512647392739815469...  \n",
       "3  4972583161864397252537164986293815473759641828...  \n",
       "4  4659123781894735623275681497386452919548216372...  "
      ]
     },
     "execution_count": 2,
     "metadata": {},
     "output_type": "execute_result"
    }
   ],
   "source": [
    "df = pd.read_csv(\"sudoku.csv\")\n",
    "df.head()"
   ]
  },
  {
   "cell_type": "code",
   "execution_count": 3,
   "metadata": {},
   "outputs": [],
   "source": [
    "quizzes = df[\"quizzes\"]\n",
    "solutions = df[\"solutions\"]\n",
    "featureData = []\n",
    "for quiz in quizzes:\n",
    "    temp = []\n",
    "    for val in quiz:\n",
    "        temp.append(int(val))\n",
    "    temp = np.array(temp).reshape(9,9,1)\n",
    "    featureData.append(temp)\n",
    "    \n",
    "featureData = np.array(featureData);\n",
    "featureData = (featureData/9) - 0.5\n",
    "\n",
    "targetData = []\n",
    "for solution in solutions:\n",
    "    temp = []\n",
    "    for val in solution:\n",
    "        temp.append(int(val))\n",
    "    temp = np.array(temp).reshape(81,1) - 1\n",
    "    targetData.append(temp)\n",
    "    \n",
    "targetData = np.array(targetData)\n",
    "\n",
    "xTrain, xTest, yTrain, yTest = train_test_split(featureData, targetData, test_size = 0.2, random_state = 10)"
   ]
  },
  {
   "cell_type": "code",
   "execution_count": 231,
   "metadata": {},
   "outputs": [
    {
     "name": "stdout",
     "output_type": "stream",
     "text": [
      "Train on 800000 samples\n",
      "Epoch 1/2\n",
      "800000/800000 [==============================] - 1460s 2ms/sample - loss: 0.8328 - accuracy: 0.6765\n",
      "Epoch 2/2\n",
      "800000/800000 [==============================] - 1303s 2ms/sample - loss: 0.4139 - accuracy: 0.8130\n"
     ]
    }
   ],
   "source": [
    "#AI number 1\n",
    "neuralNet = keras.models.Sequential()\n",
    "\n",
    "neuralNet.add(keras.layers.Conv2D(64, kernel_size= (3,3), activation='relu', padding='same', input_shape=(9,9,1)))\n",
    "neuralNet.add(keras.layers.BatchNormalization())\n",
    "#neuralNet.add(keras.layers.MaxPool2D())\n",
    "\n",
    "neuralNet.add(keras.layers.Conv2D(64, kernel_size= (3,3), activation='relu', padding='same'))\n",
    "neuralNet.add(keras.layers.BatchNormalization())\n",
    "#neuralNet.add(keras.layers.MaxPool2D())\n",
    "\n",
    "neuralNet.add(keras.layers.Conv2D(64, kernel_size= (3,3), activation='relu', padding='same'))\n",
    "neuralNet.add(keras.layers.BatchNormalization())\n",
    "\n",
    "neuralNet.add(keras.layers.Conv2D(128, kernel_size=(1,1), activation='relu', padding='same'))\n",
    "neuralNet.add(keras.layers.BatchNormalization())\n",
    "\n",
    "neuralNet.add(keras.layers.Conv2D(128, kernel_size=(1,1), activation='relu', padding='same'))\n",
    "neuralNet.add(keras.layers.BatchNormalization()) \n",
    "\n",
    "\n",
    "\n",
    "# don't touch this next part\n",
    "neuralNet.add(keras.layers.Flatten())\n",
    "\n",
    "neuralNet.add(keras.layers.Dense(81 * 9))\n",
    "neuralNet.add(keras.layers.Reshape((-1,9)))\n",
    "neuralNet.add(keras.layers.Activation(\"softmax\"))\n",
    "\n",
    "neuralNet.compile(loss='sparse_categorical_crossentropy', optimizer=keras.optimizers.Adam(), metrics = [\"accuracy\"])\n",
    "\n",
    "neuralNet.fit(xTrain, yTrain, batch_size = 1000, epochs = 2);"
   ]
  },
  {
   "cell_type": "code",
   "execution_count": 232,
   "metadata": {},
   "outputs": [
    {
     "name": "stdout",
     "output_type": "stream",
     "text": [
      "200000/200000 [==============================] - 105s 523us/sample - loss: 0.4083 - accuracy: 0.8135\n"
     ]
    },
    {
     "data": {
      "text/plain": [
       "[0.408294658703804, 0.8134705]"
      ]
     },
     "execution_count": 232,
     "metadata": {},
     "output_type": "execute_result"
    }
   ],
   "source": [
    "neuralNet.evaluate(xTest,yTest)"
   ]
  },
  {
   "cell_type": "code",
   "execution_count": 233,
   "metadata": {},
   "outputs": [
    {
     "name": "stdout",
     "output_type": "stream",
     "text": [
      "WARNING:tensorflow:From C:\\Users\\longn\\Anaconda3\\lib\\site-packages\\tensorflow_core\\python\\ops\\resource_variable_ops.py:1786: calling BaseResourceVariable.__init__ (from tensorflow.python.ops.resource_variable_ops) with constraint is deprecated and will be removed in a future version.\n",
      "Instructions for updating:\n",
      "If using Keras pass *_constraint arguments to layers.\n",
      "INFO:tensorflow:Assets written to: sudoku.model\\assets\n"
     ]
    }
   ],
   "source": [
    "neuralNet.save(\"sudoku.model\")"
   ]
  },
  {
   "cell_type": "code",
   "execution_count": 258,
   "metadata": {},
   "outputs": [
    {
     "name": "stdout",
     "output_type": "stream",
     "text": [
      "Train on 800000 samples\n",
      "Epoch 1/2\n",
      "800000/800000 [==============================] - 1024s 1ms/sample - loss: 0.5028 - accuracy: 0.7796\n",
      "Epoch 2/2\n",
      "800000/800000 [==============================] - 1029s 1ms/sample - loss: 0.3631 - accuracy: 0.8263\n"
     ]
    }
   ],
   "source": [
    "#AI number 2 (the better performing one)\n",
    "convNet = keras.models.Sequential()\n",
    "\n",
    "convNet.add(keras.layers.Conv2D(64, kernel_size= (3,3), activation='relu', padding='same', input_shape=(9,9,1)))\n",
    "convNet.add(keras.layers.BatchNormalization())\n",
    "#neuralNet.add(keras.layers.MaxPool2D())\n",
    "\n",
    "convNet.add(keras.layers.Conv2D(64, kernel_size= (3,3), activation='relu', padding='same'))\n",
    "convNet.add(keras.layers.BatchNormalization())\n",
    "#neuralNet.add(keras.layers.MaxPool2D())\n",
    "\n",
    "convNet.add(keras.layers.Conv2D(128, kernel_size=(1,1), activation='relu', padding='same'))\n",
    "\n",
    "\n",
    "\n",
    "# don't touch this next part\n",
    "convNet.add(keras.layers.Flatten())\n",
    "\n",
    "convNet.add(keras.layers.Dense(81 * 9))\n",
    "convNet.add(keras.layers.Reshape((-1,9)))\n",
    "convNet.add(keras.layers.Activation(\"softmax\"))\n",
    "\n",
    "convNet.compile(loss='sparse_categorical_crossentropy', optimizer=keras.optimizers.Adam(), metrics = [\"accuracy\"])\n",
    "\n",
    "convNet.fit(xTrain, yTrain, batch_size = 100, epochs = 2);"
   ]
  },
  {
   "cell_type": "code",
   "execution_count": 259,
   "metadata": {},
   "outputs": [
    {
     "name": "stdout",
     "output_type": "stream",
     "text": [
      "200000/200000 [==============================] - 69s 345us/sample - loss: 0.3598 - accuracy: 0.8277\n"
     ]
    },
    {
     "data": {
      "text/plain": [
       "[0.35983448703289034, 0.82773256]"
      ]
     },
     "execution_count": 259,
     "metadata": {},
     "output_type": "execute_result"
    }
   ],
   "source": [
    "convNet.evaluate(xTest,yTest)"
   ]
  },
  {
   "cell_type": "code",
   "execution_count": 260,
   "metadata": {},
   "outputs": [
    {
     "name": "stdout",
     "output_type": "stream",
     "text": [
      "WARNING:tensorflow:From C:\\Users\\longn\\Anaconda3\\lib\\site-packages\\tensorflow_core\\python\\ops\\resource_variable_ops.py:1786: calling BaseResourceVariable.__init__ (from tensorflow.python.ops.resource_variable_ops) with constraint is deprecated and will be removed in a future version.\n",
      "Instructions for updating:\n",
      "If using Keras pass *_constraint arguments to layers.\n",
      "INFO:tensorflow:Assets written to: sudoku2.model\\assets\n"
     ]
    }
   ],
   "source": [
    "convNet.save(\"sudoku2.model\")"
   ]
  },
  {
   "cell_type": "code",
   "execution_count": 20,
   "metadata": {},
   "outputs": [
    {
     "ename": "NameError",
     "evalue": "name 'quizes' is not defined",
     "output_type": "error",
     "traceback": [
      "\u001b[1;31m---------------------------------------------------------------------------\u001b[0m",
      "\u001b[1;31mNameError\u001b[0m                                 Traceback (most recent call last)",
      "\u001b[1;32m<ipython-input-20-0db842419e37>\u001b[0m in \u001b[0;36m<module>\u001b[1;34m()\u001b[0m\n\u001b[1;32m----> 1\u001b[1;33m \u001b[0mquizes\u001b[0m\u001b[1;33m[\u001b[0m\u001b[1;36m0\u001b[0m\u001b[1;33m]\u001b[0m\u001b[1;33m\u001b[0m\u001b[0m\n\u001b[0m",
      "\u001b[1;31mNameError\u001b[0m: name 'quizes' is not defined"
     ]
    }
   ],
   "source": []
  },
  {
   "cell_type": "code",
   "execution_count": null,
   "metadata": {},
   "outputs": [],
   "source": []
  }
 ],
 "metadata": {
  "kernelspec": {
   "display_name": "Python 3",
   "language": "python",
   "name": "python3"
  },
  "language_info": {
   "codemirror_mode": {
    "name": "ipython",
    "version": 3
   },
   "file_extension": ".py",
   "mimetype": "text/x-python",
   "name": "python",
   "nbconvert_exporter": "python",
   "pygments_lexer": "ipython3",
   "version": "3.6.5"
  }
 },
 "nbformat": 4,
 "nbformat_minor": 2
}
